{
 "cells": [
  {
   "cell_type": "code",
   "execution_count": 2,
   "id": "c2e8eaff",
   "metadata": {},
   "outputs": [],
   "source": [
    "import pandas as pd\n",
    "import numpy as np\n",
    "import matplotlib.pyplot as plt\n",
    "import seaborn as sns\n",
    "import math"
   ]
  },
  {
   "cell_type": "code",
   "execution_count": 3,
   "id": "11c7c4c2",
   "metadata": {},
   "outputs": [
    {
     "name": "stdout",
     "output_type": "stream",
     "text": [
      "      id  x_coordinate  y_coordinate  money  time (hr)         profit\n",
      "0      0      2.851925      1.201712  29700   0.273403  108630.921470\n",
      "1      1      4.150372     -2.654334   6500   0.064040  101499.543603\n",
      "2      2     -1.494092     -1.230419  89400   0.127458  701405.770444\n",
      "3      3      1.271326     -0.088520  96100   1.315029   73078.228687\n",
      "4      4      2.471113     -0.592810  41100   0.164393  250010.909373\n",
      "..   ...           ...           ...    ...        ...            ...\n",
      "195  195      4.740699      2.447793  16100   0.286438   56207.635088\n",
      "196  196     -1.270346     -1.061893   2700   1.176646    2294.658266\n",
      "197  197      2.400900      0.279276  69200   0.242649  285185.769394\n",
      "198  198     -1.241353      1.413377  13100   1.115647   11742.068041\n",
      "199  199     -1.043423      0.231220  72500   0.425828  170256.626737\n",
      "\n",
      "[200 rows x 6 columns]\n",
      "      id  x_coordinate  y_coordinate  money  time (hr)         profit  \\\n",
      "0      0      2.851925      1.201712  29700   0.273403  108630.921470   \n",
      "1      1      4.150372     -2.654334   6500   0.064040  101499.543603   \n",
      "2      2     -1.494092     -1.230419  89400   0.127458  701405.770444   \n",
      "3      3      1.271326     -0.088520  96100   1.315029   73078.228687   \n",
      "4      4      2.471113     -0.592810  41100   0.164393  250010.909373   \n",
      "..   ...           ...           ...    ...        ...            ...   \n",
      "195  195      4.740699      2.447793  16100   0.286438   56207.635088   \n",
      "196  196     -1.270346     -1.061893   2700   1.176646    2294.658266   \n",
      "197  197      2.400900      0.279276  69200   0.242649  285185.769394   \n",
      "198  198     -1.241353      1.413377  13100   1.115647   11742.068041   \n",
      "199  199     -1.043423      0.231220  72500   0.425828  170256.626737   \n",
      "\n",
      "     distance  \n",
      "0    1.571272  \n",
      "1    1.892421  \n",
      "2    1.302324  \n",
      "3    1.101851  \n",
      "4    1.452169  \n",
      "..        ...  \n",
      "195  1.953732  \n",
      "196  1.223473  \n",
      "197  1.423367  \n",
      "198  1.287556  \n",
      "199  1.026947  \n",
      "\n",
      "[200 rows x 7 columns]\n"
     ]
    }
   ],
   "source": [
    "\n",
    "df = pd.read_csv(\"./data/bank_data.csv\")\n",
    "df=df.head(200)\n",
    "#Create a column \"profit\" :\n",
    "df[\"profit\"] = df[\"money\"]/df[\"time (hr)\"]\n",
    "df\n",
    "\n",
    "new_row = {'id':'safe_zone', 'x_coordi':87, 'chemistry':92}\n",
    "print(df)\n",
    "#Calculate distance from 0(0,0):\n",
    "df['distance'] = (df['x_coordinate']**2+df['y_coordinate']**2)**0.2\n",
    "df2 = df[['x_coordinate','y_coordinate','profit']]\n",
    "#df2 = df2.head(100)\n",
    "print(df)\n",
    "\n"
   ]
  },
  {
   "cell_type": "code",
   "execution_count": 4,
   "id": "87e78ef0",
   "metadata": {},
   "outputs": [
    {
     "data": {
      "text/html": [
       "<div>\n",
       "<style scoped>\n",
       "    .dataframe tbody tr th:only-of-type {\n",
       "        vertical-align: middle;\n",
       "    }\n",
       "\n",
       "    .dataframe tbody tr th {\n",
       "        vertical-align: top;\n",
       "    }\n",
       "\n",
       "    .dataframe thead th {\n",
       "        text-align: right;\n",
       "    }\n",
       "</style>\n",
       "<table border=\"1\" class=\"dataframe\">\n",
       "  <thead>\n",
       "    <tr style=\"text-align: right;\">\n",
       "      <th></th>\n",
       "      <th>id</th>\n",
       "      <th>x_coordinate</th>\n",
       "      <th>y_coordinate</th>\n",
       "      <th>money</th>\n",
       "      <th>time (hr)</th>\n",
       "      <th>profit</th>\n",
       "      <th>distance</th>\n",
       "    </tr>\n",
       "  </thead>\n",
       "  <tbody>\n",
       "    <tr>\n",
       "      <th>count</th>\n",
       "      <td>200.000000</td>\n",
       "      <td>200.000000</td>\n",
       "      <td>200.000000</td>\n",
       "      <td>200.000000</td>\n",
       "      <td>200.000000</td>\n",
       "      <td>2.000000e+02</td>\n",
       "      <td>200.000000</td>\n",
       "    </tr>\n",
       "    <tr>\n",
       "      <th>mean</th>\n",
       "      <td>99.500000</td>\n",
       "      <td>0.197708</td>\n",
       "      <td>-0.203575</td>\n",
       "      <td>19381.000000</td>\n",
       "      <td>0.728368</td>\n",
       "      <td>6.559776e+04</td>\n",
       "      <td>1.672878</td>\n",
       "    </tr>\n",
       "    <tr>\n",
       "      <th>std</th>\n",
       "      <td>57.879185</td>\n",
       "      <td>2.917561</td>\n",
       "      <td>2.849995</td>\n",
       "      <td>26452.518171</td>\n",
       "      <td>0.415922</td>\n",
       "      <td>2.641689e+05</td>\n",
       "      <td>0.287215</td>\n",
       "    </tr>\n",
       "    <tr>\n",
       "      <th>min</th>\n",
       "      <td>0.000000</td>\n",
       "      <td>-4.993767</td>\n",
       "      <td>-4.949721</td>\n",
       "      <td>100.000000</td>\n",
       "      <td>0.007218</td>\n",
       "      <td>7.078966e+01</td>\n",
       "      <td>0.752259</td>\n",
       "    </tr>\n",
       "    <tr>\n",
       "      <th>25%</th>\n",
       "      <td>49.750000</td>\n",
       "      <td>-2.116065</td>\n",
       "      <td>-2.656409</td>\n",
       "      <td>1100.000000</td>\n",
       "      <td>0.388423</td>\n",
       "      <td>2.112265e+03</td>\n",
       "      <td>1.512999</td>\n",
       "    </tr>\n",
       "    <tr>\n",
       "      <th>50%</th>\n",
       "      <td>99.500000</td>\n",
       "      <td>0.007496</td>\n",
       "      <td>-0.417305</td>\n",
       "      <td>5600.000000</td>\n",
       "      <td>0.748253</td>\n",
       "      <td>1.140841e+04</td>\n",
       "      <td>1.720289</td>\n",
       "    </tr>\n",
       "    <tr>\n",
       "      <th>75%</th>\n",
       "      <td>149.250000</td>\n",
       "      <td>2.819484</td>\n",
       "      <td>2.131379</td>\n",
       "      <td>29850.000000</td>\n",
       "      <td>1.098958</td>\n",
       "      <td>5.141707e+04</td>\n",
       "      <td>1.869699</td>\n",
       "    </tr>\n",
       "    <tr>\n",
       "      <th>max</th>\n",
       "      <td>199.000000</td>\n",
       "      <td>4.996904</td>\n",
       "      <td>4.964229</td>\n",
       "      <td>99500.000000</td>\n",
       "      <td>1.494952</td>\n",
       "      <td>2.673887e+06</td>\n",
       "      <td>2.165584</td>\n",
       "    </tr>\n",
       "  </tbody>\n",
       "</table>\n",
       "</div>"
      ],
      "text/plain": [
       "               id  x_coordinate  y_coordinate         money   time (hr)  \\\n",
       "count  200.000000    200.000000    200.000000    200.000000  200.000000   \n",
       "mean    99.500000      0.197708     -0.203575  19381.000000    0.728368   \n",
       "std     57.879185      2.917561      2.849995  26452.518171    0.415922   \n",
       "min      0.000000     -4.993767     -4.949721    100.000000    0.007218   \n",
       "25%     49.750000     -2.116065     -2.656409   1100.000000    0.388423   \n",
       "50%     99.500000      0.007496     -0.417305   5600.000000    0.748253   \n",
       "75%    149.250000      2.819484      2.131379  29850.000000    1.098958   \n",
       "max    199.000000      4.996904      4.964229  99500.000000    1.494952   \n",
       "\n",
       "             profit    distance  \n",
       "count  2.000000e+02  200.000000  \n",
       "mean   6.559776e+04    1.672878  \n",
       "std    2.641689e+05    0.287215  \n",
       "min    7.078966e+01    0.752259  \n",
       "25%    2.112265e+03    1.512999  \n",
       "50%    1.140841e+04    1.720289  \n",
       "75%    5.141707e+04    1.869699  \n",
       "max    2.673887e+06    2.165584  "
      ]
     },
     "execution_count": 4,
     "metadata": {},
     "output_type": "execute_result"
    }
   ],
   "source": [
    "df.describe()"
   ]
  },
  {
   "cell_type": "markdown",
   "id": "f4fba3b4",
   "metadata": {},
   "source": [
    "\n",
    "- Calculate profit/time to find the most profitable bank to rob \n",
    "- Approaches :\n",
    "    1. start at the most profitable bank then finish at the end 0(0,0) (quality over quantity)\n",
    "        - greedy method: get all the most profitable banks within 24hr \n",
    "    2. steal the most banks possible within 24hr around the point 0(0,0) (quantity over quality)\n",
    "    3. optimize between 2 approaches above (maximize the profit and numbers of banks) : \n",
    "        - calculate the distance from 0(0,0) to banks location (create new distance column)\n",
    "        - use heatmap to locate where the most profitable banks are (profit / distance) then focus on that area:\n",
    "            + condition: not too far from 0(0,0) but have good profit\n",
    "\n",
    "\n",
    "=> compare all approaches and keep the best one "
   ]
  },
  {
   "cell_type": "code",
   "execution_count": 5,
   "id": "08e0a3e6",
   "metadata": {},
   "outputs": [
    {
     "data": {
      "image/png": "[encoded data removed]",
      "text/plain": [
       "<Figure size 640x480 with 1 Axes>"
      ]
     },
     "metadata": {},
     "output_type": "display_data"
    }
   ],
   "source": [
    "# plotting the points \n",
    "fig = plt.scatter(df['x_coordinate'], df['y_coordinate'], marker = \".\")\n",
    "\n",
    "plt.title('Banks location')\n",
    "\n",
    "plt.show()"
   ]
  },
  {
   "cell_type": "code",
   "execution_count": 6,
   "id": "c94e395b",
   "metadata": {},
   "outputs": [
    {
     "data": {
      "text/plain": [
       "[1.2713257776543574, -0.0885204586243504]"
      ]
     },
     "execution_count": 6,
     "metadata": {},
     "output_type": "execute_result"
    }
   ],
   "source": [
    "def coordinate(x):\n",
    "    \"\"\"Find the coordinate for each bank based on index\"\"\"\n",
    "    coor = []\n",
    "    coor_x = df.iloc[x]['x_coordinate']\n",
    "    coor_y = df.iloc[x]['y_coordinate']\n",
    "    coor.append(coor_x)\n",
    "    coor.append(coor_y)\n",
    "    return coor\n",
    "coordinate(3) "
   ]
  },
  {
   "cell_type": "code",
   "execution_count": 7,
   "id": "e3ccd847",
   "metadata": {},
   "outputs": [
    {
     "data": {
      "text/plain": [
       "0.1274583183759543"
      ]
     },
     "execution_count": 7,
     "metadata": {},
     "output_type": "execute_result"
    }
   ],
   "source": [
    "def robbing_time(x):\n",
    "    \"\"\"Find the robbing time in a bank\"\"\"\n",
    "    return df.iloc[x]['time (hr)']\n",
    "robbing_time(2)"
   ]
  },
  {
   "cell_type": "code",
   "execution_count": 8,
   "id": "51afdcd2",
   "metadata": {},
   "outputs": [
    {
     "data": {
      "text/plain": [
       "3.856463067796375"
      ]
     },
     "execution_count": 8,
     "metadata": {},
     "output_type": "execute_result"
    }
   ],
   "source": [
    "def distance(p1,p2):\n",
    "    \"\"\"Calculate distance between 2 points\"\"\"\n",
    "    p1 = coordinate(p1)\n",
    "    p2 = coordinate(p2)\n",
    "    return math.dist(p1, p2)\n",
    "distance(1,3)"
   ]
  },
  {
   "cell_type": "code",
   "execution_count": 9,
   "id": "52af0353",
   "metadata": {},
   "outputs": [
    {
     "data": {
      "text/plain": [
       "0.19966603916403775"
      ]
     },
     "execution_count": 9,
     "metadata": {},
     "output_type": "execute_result"
    }
   ],
   "source": [
    "def time(p1,p2):\n",
    "    \"\"\"Calculate the travel time between 2 points\"\"\"\n",
    "    time = distance(p1,p2)/30 + robbing_time(p2)\n",
    "    return time \n",
    "time(0,1)"
   ]
  },
  {
   "cell_type": "code",
   "execution_count": 10,
   "id": "d7458fb9",
   "metadata": {},
   "outputs": [
    {
     "data": {
      "text/plain": [
       "173"
      ]
     },
     "execution_count": 10,
     "metadata": {},
     "output_type": "execute_result"
    }
   ],
   "source": [
    "def closest_point(points,new):\n",
    "    \"\"\"Find the closest bank from the *chosen* bank\n",
    "       Points = all the banks that we have\"\"\"\n",
    "    best_point= None\n",
    "    best_distance= None \n",
    "    \n",
    "    for current in points: \n",
    "        current_distance = distance(new,current)\n",
    "        \n",
    "        if current == new: # to avoid return the same point (bank)\n",
    "            continue \n",
    "         \n",
    "        if best_distance is None or current_distance < best_distance:\n",
    "            best_distance = current_distance\n",
    "            best_point = current\n",
    "            \n",
    "    return best_point\n",
    "\n",
    "closest_point(range(200),4)\n",
    "            \n",
    "#Here Im trying to rob all the nearest banks from the safe zone \n",
    "#within 24hrs, regardless the value. Next step is to write a \n",
    "#recursion algo to add all the banks near the safe zone\n"
   ]
  },
  {
   "cell_type": "code",
   "execution_count": 11,
   "id": "592c6c61",
   "metadata": {},
   "outputs": [
    {
     "name": "stdout",
     "output_type": "stream",
     "text": [
      "67    67\n",
      "Name: id, dtype: int64\n",
      "200\n"
     ]
    }
   ],
   "source": [
    "#find the 1st bank to arrive (closest to the origin): \n",
    "first_bank = df[df.distance == df.distance.min()][\"id\"]\n",
    "print(first_bank)\n",
    "print(len(df))"
   ]
  },
  {
   "cell_type": "code",
   "execution_count": 12,
   "id": "b3d07261",
   "metadata": {},
   "outputs": [
    {
     "data": {
      "text/plain": [
       "67"
      ]
     },
     "execution_count": 12,
     "metadata": {},
     "output_type": "execute_result"
    }
   ],
   "source": [
    "def first_bank(df):\n",
    "    for i in range(len(df)):\n",
    "        if df.iloc[i]['distance']== df.distance.min():\n",
    "            return i\n",
    "first_bank(df)\n"
   ]
  },
  {
   "cell_type": "code",
   "execution_count": 13,
   "id": "519216a0",
   "metadata": {},
   "outputs": [
    {
     "data": {
      "text/plain": [
       "1.3023243618776732"
      ]
     },
     "execution_count": 13,
     "metadata": {},
     "output_type": "execute_result"
    }
   ],
   "source": [
    "def distance_first_bank(x):\n",
    "    return df.iloc[x]['distance']\n",
    "distance_first_bank(2)"
   ]
  },
  {
   "cell_type": "code",
   "execution_count": 14,
   "id": "58905891",
   "metadata": {},
   "outputs": [
    {
     "data": {
      "text/plain": [
       "0.1708691304385434"
      ]
     },
     "execution_count": 14,
     "metadata": {},
     "output_type": "execute_result"
    }
   ],
   "source": [
    "def time_first_bank(x):\n",
    "    return distance_first_bank(x)/30 + robbing_time(x)\n",
    "time_first_bank(2)"
   ]
  },
  {
   "cell_type": "code",
   "execution_count": 21,
   "id": "50c0c33f",
   "metadata": {},
   "outputs": [
    {
     "data": {
      "text/plain": [
       "[67,\n",
       " 191,\n",
       " 53,\n",
       " 191,\n",
       " 53,\n",
       " 191,\n",
       " 53,\n",
       " 191,\n",
       " 53,\n",
       " 191,\n",
       " 53,\n",
       " 188,\n",
       " 53,\n",
       " 67,\n",
       " 53,\n",
       " 67,\n",
       " 53,\n",
       " 67,\n",
       " 53,\n",
       " 67,\n",
       " 53,\n",
       " 67,\n",
       " 53,\n",
       " 67,\n",
       " 53,\n",
       " 67,\n",
       " 53,\n",
       " 67,\n",
       " 53,\n",
       " 67,\n",
       " 53,\n",
       " 67,\n",
       " 53,\n",
       " 67,\n",
       " 53,\n",
       " 67,\n",
       " 53,\n",
       " 67,\n",
       " 53,\n",
       " 67,\n",
       " 53,\n",
       " 67,\n",
       " 53,\n",
       " 67]"
      ]
     },
     "execution_count": 21,
     "metadata": {},
     "output_type": "execute_result"
    }
   ],
   "source": [
    "def rob_bank(df):\n",
    "    start = first_bank(df)\n",
    "    result = []\n",
    "    temp_time = 0\n",
    "#print(start)\n",
    "    if temp_time == 0: \n",
    "        temp_time += time_first_bank(start)\n",
    "        result.append(start)\n",
    "        next_bank = closest_point(range(len(df)), start)\n",
    "        result.append(next_bank)\n",
    "        df=df.drop(start)\n",
    "#    df.drop(next_bank)\n",
    "    \n",
    "    while temp_time <= 24 and temp_time>0: \n",
    "        current_bank = next_bank\n",
    "        temp_time += time(current_bank,closest_point(range(len(df)),next_bank))\n",
    "        next_bank = closest_point(range(len(df)),current_bank)\n",
    "        df=df.drop(current_bank-len(result))\n",
    "        result.append(next_bank)\n",
    "        \n",
    "    \n",
    "    else: \n",
    "        False\n",
    "    return result\n",
    "    \n",
    "rob_bank(df)"
   ]
  },
  {
   "cell_type": "code",
   "execution_count": null,
   "id": "7880a4f2",
   "metadata": {},
   "outputs": [],
   "source": []
  }
 ],
 "metadata": {
  "kernelspec": {
   "display_name": "Python 3 (ipykernel)",
   "language": "python",
   "name": "python3"
  },
  "language_info": {
   "codemirror_mode": {
    "name": "ipython",
    "version": 3
   },
   "file_extension": ".py",
   "mimetype": "text/x-python",
   "name": "python",
   "nbconvert_exporter": "python",
   "pygments_lexer": "ipython3",
   "version": "3.9.13"
  }
 },
 "nbformat": 4,
 "nbformat_minor": 5
}
